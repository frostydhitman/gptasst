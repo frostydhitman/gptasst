{
 "cells": [
  {
   "cell_type": "code",
   "execution_count": null,
   "id": "e56d6126-97b9-40fc-af93-79444fec8c08",
   "metadata": {},
   "outputs": [],
   "source": [
    "! pip install \"unstructured[all-docs]\""
   ]
  },
  {
   "cell_type": "markdown",
   "id": "afd56c06-bf03-41a4-9a1a-3a864631d4bf",
   "metadata": {},
   "source": [
    "# HTML\n",
    "\n",
    "Test loading HTML files w/ `Unstructured` `partition_html`."
   ]
  },
  {
   "cell_type": "markdown",
   "id": "a7069ceb-5956-4fd0-8ce8-70717e91c5d5",
   "metadata": {},
   "source": [
    "## Load \n",
    "\n",
    "Extract elements using `Unstructured`."
   ]
  },
  {
   "cell_type": "code",
   "execution_count": null,
   "id": "5fb2d28d-195f-4470-bb18-6c15f3e27179",
   "metadata": {},
   "outputs": [],
   "source": [
    "import pandas as pd\n",
    "from lxml import html\n",
    "from pydantic import BaseModel\n",
    "from typing import Any, Optional\n",
    "from unstructured.partition.html import partition_html\n",
    "\n",
    "class Element(BaseModel):\n",
    "    type: str\n",
    "    text: Any"
   ]
  },
  {
   "cell_type": "code",
   "execution_count": 35,
   "id": "92ce945b-97e0-44be-97e5-5221be5c4168",
   "metadata": {},
   "outputs": [
    {
     "name": "stdout",
     "output_type": "stream",
     "text": [
      "6\n",
      "101\n"
     ]
    }
   ],
   "source": [
    "# Get elements\n",
    "url = \"https://en.wikipedia.org/wiki/List_of_Academy_Awards_ceremonies\"\n",
    "raw_elements = partition_html(url=url)\n",
    "\n",
    "# Categorize by type\n",
    "categorized_elements = []\n",
    "for element in raw_elements:\n",
    "    if \"unstructured.documents.html.HTMLTable\" in str(type(element)):\n",
    "        categorized_elements.append(Element(type=\"table\", text=str(element)))\n",
    "    else:\n",
    "        categorized_elements.append(Element(type=\"text\", text=str(element)))\n",
    "\n",
    "# Tables\n",
    "table_elements = [e for e in categorized_elements if e.type == \"table\"]\n",
    "\n",
    "# Text\n",
    "text_elements = [e for e in categorized_elements if e.type == \"text\"]\n",
    "\n",
    "# Table elements are nicely extracted \n",
    "print(len(table_elements))\n",
    "print(len(text_elements))"
   ]
  },
  {
   "cell_type": "code",
   "execution_count": 36,
   "id": "2f67a678-bdcc-4d1b-8742-c3c5c10c6250",
   "metadata": {},
   "outputs": [
    {
     "data": {
      "text/plain": [
       "Element(type='text', text='Read')"
      ]
     },
     "execution_count": 36,
     "metadata": {},
     "output_type": "execute_result"
    }
   ],
   "source": [
    "text_elements[20]"
   ]
  },
  {
   "cell_type": "code",
   "execution_count": 27,
   "id": "d4951da8-c3a2-433d-8f1f-54ede8a7da06",
   "metadata": {},
   "outputs": [
    {
     "data": {
      "text/plain": [
       "Element(type='table', text='Host\\n \\n Number of ceremonies\\n \\n Bob Hope \\n 19\\n \\n Billy Crystal \\n 9\\n \\n Johnny Carson \\n 5\\n \\n Whoopi Goldberg \\n 4\\n \\n Jack Lemmon \\n \\n Jimmy Kimmel \\n 3\\n \\n Jerry Lewis \\n \\n Steve Martin \\n \\n Conrad Nagel \\n \\n David Niven \\n \\n Jack Benny \\n 2\\n \\n Chevy Chase \\n \\n Sammy Davis Jr. \\n \\n Ellen DeGeneres \\n \\n Jane Fonda \\n \\n Goldie Hawn \\n \\n Walter Matthau \\n \\n Richard Pryor \\n \\n Chris Rock \\n \\n Frank Sinatra \\n \\n James Stewart \\n \\n Jon Stewart')"
      ]
     },
     "execution_count": 27,
     "metadata": {},
     "output_type": "execute_result"
    }
   ],
   "source": [
    "table_elements[2]"
   ]
  },
  {
   "cell_type": "code",
   "execution_count": 37,
   "id": "bd1255da-5818-4386-8118-9fa6d7485200",
   "metadata": {},
   "outputs": [
    {
     "name": "stdout",
     "output_type": "stream",
     "text": [
      "0\n",
      "265\n"
     ]
    }
   ],
   "source": [
    "# Get elements\n",
    "raw_elements = partition_html(url=url,\n",
    "                             chunking_strategy=\"by_title\")\n",
    "\n",
    "# Categorize by type\n",
    "categorized_elements = []\n",
    "for element in raw_elements:\n",
    "    if \"unstructured.documents.html.HTMLTable\" in str(type(element)):\n",
    "        categorized_elements.append(Element(type=\"table\", text=str(element)))\n",
    "    else:\n",
    "        categorized_elements.append(Element(type=\"text\", text=str(element)))\n",
    "\n",
    "# Tables\n",
    "table_elements = [e for e in categorized_elements if e.type == \"table\"]\n",
    "\n",
    "# Text\n",
    "text_elements = [e for e in categorized_elements if e.type == \"text\"]\n",
    "\n",
    "# Table elements are nicely extracted \n",
    "print(len(table_elements))\n",
    "print(len(text_elements))"
   ]
  },
  {
   "cell_type": "markdown",
   "id": "f1ee3e09-c5e1-4222-ac41-340c20d7a8d2",
   "metadata": {},
   "source": [
    "### Pain Points \n",
    "\n",
    "* We want text splits by section of document\n",
    "* `chunking_strategy=\"by_title\"` does not appear to work as expected"
   ]
  },
  {
   "cell_type": "markdown",
   "id": "d51347af-0369-4d1a-af81-1b49ed05304d",
   "metadata": {},
   "source": [
    "### Summarize\n",
    "\n",
    "Here, we use [multi-vector retriever](https://python.langchain.com/docs/modules/data_connection/retrievers/multi_vector)."
   ]
  },
  {
   "cell_type": "code",
   "execution_count": null,
   "id": "55ada32f-af0f-4e9a-981c-e88dde833242",
   "metadata": {},
   "outputs": [],
   "source": [
    "from langchain.chat_models import ChatOpenAI\n",
    "from langchain.prompts import ChatPromptTemplate\n",
    "from langchain.output_parsers.openai_functions import JsonOutputFunctionsParser"
   ]
  },
  {
   "cell_type": "code",
   "execution_count": 81,
   "id": "8ecd9a41-3307-47a2-8871-10492ee6ee07",
   "metadata": {},
   "outputs": [],
   "source": [
    "# Function call to summarize tables \n",
    "functions = [\n",
    "    {\n",
    "      \"name\": \"parse_table\",\n",
    "      \"description\": \"Summarize table and determine whether to keep\",\n",
    "      \"parameters\": {\n",
    "        \"type\": \"object\",\n",
    "        \"properties\": {\n",
    "          \"summary\": {\n",
    "            \"type\": \"string\",\n",
    "            \"description\": \"A summary of the table\"\n",
    "          },\n",
    "          \"keep\": {\n",
    "            \"type\": \"boolean\",\n",
    "            \"description\": \"Whether to keep the table\"\n",
    "          }\n",
    "        },\n",
    "        \"required\": [\"summary\", \"keep\"]\n",
    "      }\n",
    "    }\n",
    "  ]\n",
    "\n",
    "# Prompt \n",
    "prompt_text=\"\"\"You are an assistant tasked with summarizing tables and filtering out \"tables\" that are not useful to keep. \\\n",
    "For instance, the table does contain any useful information. Give a concise summary of the table and output whether or not \n",
    "the table should be kept. Table: {table} \"\"\"\n",
    "\n",
    "# Summary chain \n",
    "model = ChatOpenAI(temperature=0,model=\"gpt-4\")\n",
    "prompt = ChatPromptTemplate.from_template(prompt_text) \n",
    "table_summarize_chain = {\"table\": lambda x:x} | prompt | model.bind(function_call= {\"name\": \"parse_table\"}, functions= functions) | JsonOutputFunctionsParser()\n",
    "\n",
    "# Apply to our tables\n",
    "tables = [str(i.element) for i in table_elements[0:10]]\n",
    "table_summaries = table_summarize_chain.batch(tables, {\"max_concurrency\": 5})"
   ]
  },
  {
   "cell_type": "code",
   "execution_count": null,
   "id": "a3089cd5-d537-4f04-a2cb-c9c7a4b7950a",
   "metadata": {},
   "outputs": [],
   "source": [
    "# Summarize sections\n",
    "\n",
    "# Prompt \n",
    "prompt_text=\"\"\"You are an assistant tasked with summarizing sections of a document. Section: {section} \"\"\"\n",
    "\n",
    "# Summary chain \n",
    "model = ChatOpenAI(temperature=0,model=\"gpt-4\")\n",
    "prompt = ChatPromptTemplate.from_template(prompt_text) \n",
    "section_summarize_chain = {\"section\": lambda x:x} | prompt | model \n",
    "\n",
    "# *** Ideally document sections can be extracted w/ Unstructured ***\n",
    "section_summarize_chain = xxx\n",
    "section_summaries = section_summarize_chain.batch(sections, {\"max_concurrency\": 5})"
   ]
  },
  {
   "cell_type": "code",
   "execution_count": null,
   "id": "bf21adad-4288-40e5-8ff5-7418840e4ef7",
   "metadata": {},
   "outputs": [],
   "source": [
    "from langchain.vectorstores import Chroma\n",
    "from langchain.storage import InMemoryStore\n",
    "from langchain.embeddings import OpenAIEmbeddings\n",
    "\n",
    "# The vectorstore to use to index the child chunks\n",
    "vectorstore = Chroma(\n",
    "    collection_name=\"summaries\",\n",
    "    embedding_function=OpenAIEmbeddings()\n",
    ")\n",
    "\n",
    "# The storage layer for the parent documents\n",
    "store = InMemoryStore()\n",
    "id_key = \"doc_id\"\n",
    "\n",
    "# The retriever (empty to start)\n",
    "retriever = MultiVectorRetriever(\n",
    "    vectorstore=vectorstore, \n",
    "    docstore=store, \n",
    "    id_key=id_key,\n",
    ")\n",
    "\n",
    "# Add tables \n",
    "doc_ids = [str(uuid.uuid4()) for _ in tables]\n",
    "retriever.vectorstore.add_documents(table_summaries)\n",
    "retriever.docstore.mset(list(zip(doc_ids, tables)))\n",
    "\n",
    "# Add section summaries \n",
    "### split and add "
   ]
  },
  {
   "cell_type": "markdown",
   "id": "57811f5d-f55f-4419-9b8c-36cef440f0b7",
   "metadata": {},
   "source": [
    "# PDF \n",
    "\n",
    "Paper (https://arxiv.org/pdf/2307.09288.pdf)"
   ]
  },
  {
   "cell_type": "code",
   "execution_count": null,
   "id": "2876e74a-3b9b-4021-81da-63458b65a401",
   "metadata": {},
   "outputs": [],
   "source": [
    "! brew install python-poppler tesseract"
   ]
  },
  {
   "cell_type": "code",
   "execution_count": 129,
   "id": "b030f0e3-b66f-49b8-81c2-0e0d27e3096c",
   "metadata": {},
   "outputs": [
    {
     "data": {
      "application/vnd.jupyter.widget-view+json": {
       "model_id": "c0ab1e009770400e9e5f872c06f29010",
       "version_major": 2,
       "version_minor": 0
      },
      "text/plain": [
       "Downloading (…)lve/main/config.json:   0%|          | 0.00/1.47k [00:00<?, ?B/s]"
      ]
     },
     "metadata": {},
     "output_type": "display_data"
    },
    {
     "data": {
      "application/vnd.jupyter.widget-view+json": {
       "model_id": "321ad24725c64d0687a69886ee915a73",
       "version_major": 2,
       "version_minor": 0
      },
      "text/plain": [
       "Downloading model.safetensors:   0%|          | 0.00/115M [00:00<?, ?B/s]"
      ]
     },
     "metadata": {},
     "output_type": "display_data"
    },
    {
     "data": {
      "application/vnd.jupyter.widget-view+json": {
       "model_id": "1e32e3e0e44940bb9fd8675174e5b756",
       "version_major": 2,
       "version_minor": 0
      },
      "text/plain": [
       "Downloading model.safetensors:   0%|          | 0.00/46.8M [00:00<?, ?B/s]"
      ]
     },
     "metadata": {},
     "output_type": "display_data"
    },
    {
     "name": "stderr",
     "output_type": "stream",
     "text": [
      "Some weights of the model checkpoint at microsoft/table-transformer-structure-recognition were not used when initializing TableTransformerForObjectDetection: ['model.backbone.conv_encoder.model.layer2.0.downsample.1.num_batches_tracked', 'model.backbone.conv_encoder.model.layer4.0.downsample.1.num_batches_tracked', 'model.backbone.conv_encoder.model.layer3.0.downsample.1.num_batches_tracked']\n",
      "- This IS expected if you are initializing TableTransformerForObjectDetection from the checkpoint of a model trained on another task or with another architecture (e.g. initializing a BertForSequenceClassification model from a BertForPreTraining model).\n",
      "- This IS NOT expected if you are initializing TableTransformerForObjectDetection from the checkpoint of a model that you expect to be exactly identical (initializing a BertForSequenceClassification model from a BertForSequenceClassification model).\n"
     ]
    }
   ],
   "source": [
    "from typing import Any, Optional\n",
    "from unstructured.partition.pdf import partition_pdf\n",
    "\n",
    "class Element(BaseModel):\n",
    "    type: str\n",
    "    text: Any\n",
    "\n",
    "# Get elements\n",
    "raw_pdf_elements = partition_pdf(filename=\"/Users/rlm/Desktop/2307.09288.pdf\",\n",
    "                                 chunking_strategy=\"by_title\",\n",
    "                                 infer_table_structure=True)"
   ]
  },
  {
   "cell_type": "code",
   "execution_count": 131,
   "id": "4b340bfc-e0f3-40ed-99e4-5c0b807e1b4d",
   "metadata": {},
   "outputs": [
    {
     "data": {
      "text/plain": [
       "{\"<class 'unstructured.documents.elements.FigureCaption'>\",\n",
       " \"<class 'unstructured.documents.elements.Footer'>\",\n",
       " \"<class 'unstructured.documents.elements.Formula'>\",\n",
       " \"<class 'unstructured.documents.elements.Header'>\",\n",
       " \"<class 'unstructured.documents.elements.Image'>\",\n",
       " \"<class 'unstructured.documents.elements.ListItem'>\",\n",
       " \"<class 'unstructured.documents.elements.NarrativeText'>\",\n",
       " \"<class 'unstructured.documents.elements.Table'>\",\n",
       " \"<class 'unstructured.documents.elements.Text'>\",\n",
       " \"<class 'unstructured.documents.elements.Title'>\"}"
      ]
     },
     "execution_count": 131,
     "metadata": {},
     "output_type": "execute_result"
    }
   ],
   "source": [
    "unique_categories = {str(type(element)) for element in raw_pdf_elements}\n",
    "unique_categories"
   ]
  },
  {
   "cell_type": "code",
   "execution_count": 132,
   "id": "d9816344-10e3-4794-a440-1089071048e7",
   "metadata": {},
   "outputs": [
    {
     "data": {
      "text/plain": [
       "48"
      ]
     },
     "execution_count": 132,
     "metadata": {},
     "output_type": "execute_result"
    }
   ],
   "source": [
    "# Categorize by type\n",
    "categorized_elements = []\n",
    "for element in raw_pdf_elements:\n",
    "    if \"unstructured.documents.elements.Table\" in str(type(element)):\n",
    "        categorized_elements.append(Element(type=\"table\", text=str(element)))\n",
    "    else:\n",
    "        categorized_elements.append(Element(type=\"text\", text=str(element)))\n",
    "\n",
    "# Tables\n",
    "table_elements = [e for e in categorized_elements if e.type == \"table\"]\n",
    "\n",
    "# Text\n",
    "text_elements = [e for e in categorized_elements if e.type == \"text\"]\n",
    "\n",
    "# Table elements are nicely extracted \n",
    "len(table_elements)"
   ]
  },
  {
   "cell_type": "code",
   "execution_count": null,
   "id": "eae83574-0452-4cab-b26e-ef83d9a2b7fb",
   "metadata": {},
   "outputs": [],
   "source": []
  },
  {
   "cell_type": "markdown",
   "id": "8cfbe009-eacf-4926-8d2d-5dc370a24824",
   "metadata": {},
   "source": [
    "## LangChain integration\n",
    "\n",
    "We are using `partition`.\n",
    "\n",
    "```\n",
    "from unstructured.partition.auto import partition\n",
    "return partition(filename=self.file_path, **self.unstructured_kwargs)\n",
    "```"
   ]
  },
  {
   "cell_type": "code",
   "execution_count": 29,
   "id": "e758f1c1-2804-40f8-8be7-7f23a3dae0bb",
   "metadata": {},
   "outputs": [
    {
     "ename": "TypeError",
     "evalue": "__init__() missing 1 required positional argument: 'file_path'",
     "output_type": "error",
     "traceback": [
      "\u001b[0;31m---------------------------------------------------------------------------\u001b[0m",
      "\u001b[0;31mTypeError\u001b[0m                                 Traceback (most recent call last)",
      "Cell \u001b[0;32mIn[29], line 2\u001b[0m\n\u001b[1;32m      1\u001b[0m \u001b[38;5;28;01mfrom\u001b[39;00m \u001b[38;5;21;01mlangchain\u001b[39;00m\u001b[38;5;21;01m.\u001b[39;00m\u001b[38;5;21;01mdocument_loaders\u001b[39;00m \u001b[38;5;28;01mimport\u001b[39;00m UnstructuredFileLoader\n\u001b[0;32m----> 2\u001b[0m loader \u001b[38;5;241m=\u001b[39m \u001b[43mUnstructuredFileLoader\u001b[49m\u001b[43m(\u001b[49m\u001b[43murl\u001b[49m\u001b[38;5;241;43m=\u001b[39;49m\u001b[43murl\u001b[49m\u001b[43m,\u001b[49m\n\u001b[1;32m      3\u001b[0m \u001b[43m                                \u001b[49m\u001b[43mmode\u001b[49m\u001b[38;5;241;43m=\u001b[39;49m\u001b[38;5;124;43m\"\u001b[39;49m\u001b[38;5;124;43melements\u001b[39;49m\u001b[38;5;124;43m\"\u001b[39;49m\u001b[43m,\u001b[49m\n\u001b[1;32m      4\u001b[0m \u001b[43m                                \u001b[49m\u001b[43mskip_infer_table_types\u001b[49m\u001b[38;5;241;43m=\u001b[39;49m\u001b[43m[\u001b[49m\u001b[43m]\u001b[49m\u001b[43m)\u001b[49m\n",
      "\u001b[0;31mTypeError\u001b[0m: __init__() missing 1 required positional argument: 'file_path'"
     ]
    }
   ],
   "source": [
    "from langchain.document_loaders import UnstructuredFileLoader\n",
    "loader = UnstructuredFileLoader(url=url,\n",
    "                                mode=\"elements\",\n",
    "                                skip_infer_table_types=[])"
   ]
  },
  {
   "cell_type": "code",
   "execution_count": 112,
   "id": "5e67df05-54ef-45a7-8e81-5898bdb9475f",
   "metadata": {},
   "outputs": [],
   "source": [
    "loader = UnstructuredFileLoader(\"/Users/rlm/Desktop/2307.09288.pdf\",\n",
    "                                mode=\"elements\",\n",
    "                                skip_infer_table_types=[])\n",
    "docs = loader.load()"
   ]
  },
  {
   "cell_type": "code",
   "execution_count": 114,
   "id": "bcfd8f20-6d85-404f-8d25-2481e6084825",
   "metadata": {},
   "outputs": [
    {
     "data": {
      "text/plain": [
       "Document(page_content='. . . . . . . . . . . . . . . . . . . . . . . . . . . . . . . . . . . .', metadata={'source': '/Users/rlm/Desktop/2307.09288.pdf', 'coordinates': {'points': ((253.81755, 265.77340000000015), (253.81755, 275.7360000000001), (517.8164873999997, 275.7360000000001), (517.8164873999997, 265.77340000000015)), 'system': 'PixelSpace', 'layout_width': 612, 'layout_height': 792}, 'filename': '2307.09288.pdf', 'file_directory': '/Users/rlm/Desktop', 'last_modified': '2023-10-09T12:51:46', 'filetype': 'application/pdf', 'parent_id': '611a920068bf97e03736f9e31960eed0', 'page_number': 2, 'links': [], 'category': 'UncategorizedText'})"
      ]
     },
     "execution_count": 114,
     "metadata": {},
     "output_type": "execute_result"
    }
   ],
   "source": [
    "docs[60]"
   ]
  },
  {
   "cell_type": "code",
   "execution_count": 117,
   "id": "b17ed917-f574-4b74-9988-cb10a3feb406",
   "metadata": {},
   "outputs": [
    {
     "name": "stdout",
     "output_type": "stream",
     "text": [
      "{'Title', 'ListItem', 'UncategorizedText', 'NarrativeText'}\n"
     ]
    }
   ],
   "source": [
    "# Collect unique categories in a set\n",
    "unique_categories = {doc.metadata['category'] for doc in docs if 'category' in doc.metadata}\n",
    "# Print out the unique categories\n",
    "print(unique_categories)"
   ]
  },
  {
   "cell_type": "code",
   "execution_count": 118,
   "id": "b8d3129d-eef1-4fe4-b922-ff8b92b467fd",
   "metadata": {},
   "outputs": [],
   "source": [
    "loader = UnstructuredFileLoader(\"tesla_2021_10k.htm\", mode=\"elements\")\n",
    "docs_html = loader.load()"
   ]
  },
  {
   "cell_type": "code",
   "execution_count": 119,
   "id": "0f159148-bbe2-4d89-9f71-117592f25a92",
   "metadata": {},
   "outputs": [
    {
     "name": "stdout",
     "output_type": "stream",
     "text": [
      "{'ListItem', 'UncategorizedText', 'Title', 'Table', 'NarrativeText'}\n"
     ]
    }
   ],
   "source": [
    "# Collect unique categories in a set\n",
    "unique_categories = {doc.metadata['category'] for doc in docs_html if 'category' in doc.metadata}\n",
    "# Print out the unique categories\n",
    "print(unique_categories)"
   ]
  }
 ],
 "metadata": {
  "kernelspec": {
   "display_name": "Python 3 (ipykernel)",
   "language": "python",
   "name": "python3"
  },
  "language_info": {
   "codemirror_mode": {
    "name": "ipython",
    "version": 3
   },
   "file_extension": ".py",
   "mimetype": "text/x-python",
   "name": "python",
   "nbconvert_exporter": "python",
   "pygments_lexer": "ipython3",
   "version": "3.9.16"
  }
 },
 "nbformat": 4,
 "nbformat_minor": 5
}
